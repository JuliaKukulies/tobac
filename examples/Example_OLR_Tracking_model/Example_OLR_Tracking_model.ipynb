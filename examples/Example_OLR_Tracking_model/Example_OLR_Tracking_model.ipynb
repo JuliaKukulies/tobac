{
 "cells": [
  {
   "cell_type": "markdown",
   "metadata": {},
   "source": [
    "tobac example: Tracking of deep convection based on OLR from convection permitting model simulations\n",
    "==\n",
    "This example notebook demonstrates the use of tobac to track deep convection based on the outgoing longwave radiation (OLR) from convection permitting simulations.\n",
    "\n",
    "The simulation results used in this example were performed as part of the ACPC deep convection intercomparison  case study (http://acpcinitiative.org/Docs/ACPC_DCC_Roadmap_171019.pdf) with WRF using the Morrison microphysics scheme. Simulations were performed with a horizontal grid spacing of 4.5 km.\n",
    "\n",
    "The data used in this example is downloaded from \"zenodo link\" automatically as part of the notebooks (This only has to be done once for all the tobac example notebooks)."
   ]
  },
  {
   "cell_type": "markdown",
   "metadata": {},
   "source": [
    "**Import libraries:**"
   ]
  },
  {
   "cell_type": "code",
   "execution_count": 1,
   "metadata": {
    "execution": {
     "iopub.execute_input": "2024-03-22T16:58:08.558466Z",
     "iopub.status.busy": "2024-03-22T16:58:08.557798Z",
     "iopub.status.idle": "2024-03-22T16:58:13.100261Z",
     "shell.execute_reply": "2024-03-22T16:58:13.097167Z"
    },
    "ExecuteTime": {
     "end_time": "2024-10-18T14:12:46.512124Z",
     "start_time": "2024-10-18T14:12:46.277303Z"
    }
   },
   "outputs": [],
   "source": [
    "# Import a range of python libraries used in this notebook:\n",
    "import iris\n",
    "import numpy as np\n",
    "import pandas as pd\n",
    "import matplotlib.pyplot as plt\n",
    "import iris.plot as iplt\n",
    "import iris.quickplot as qplt\n",
    "import shutil\n",
    "import datetime\n",
    "from six.moves import urllib\n",
    "from pathlib import Path\n",
    "%matplotlib inline"
   ]
  },
  {
   "cell_type": "code",
   "execution_count": 2,
   "metadata": {
    "execution": {
     "iopub.execute_input": "2024-03-22T16:58:13.109135Z",
     "iopub.status.busy": "2024-03-22T16:58:13.108625Z",
     "iopub.status.idle": "2024-03-22T16:58:16.216658Z",
     "shell.execute_reply": "2024-03-22T16:58:16.215676Z"
    },
    "ExecuteTime": {
     "end_time": "2024-10-18T14:12:46.905896Z",
     "start_time": "2024-10-18T14:12:46.513022Z"
    }
   },
   "outputs": [
    {
     "name": "stdout",
     "output_type": "stream",
     "text": [
      "using tobac version 1.5.4\n"
     ]
    }
   ],
   "source": [
    "# Import tobac itself:\n",
    "import tobac\n",
    "print('using tobac version', str(tobac.__version__))"
   ]
  },
  {
   "cell_type": "code",
   "execution_count": 3,
   "metadata": {
    "execution": {
     "iopub.execute_input": "2024-03-22T16:58:16.273193Z",
     "iopub.status.busy": "2024-03-22T16:58:16.271524Z",
     "iopub.status.idle": "2024-03-22T16:58:16.279142Z",
     "shell.execute_reply": "2024-03-22T16:58:16.278380Z"
    },
    "ExecuteTime": {
     "end_time": "2024-10-18T14:12:46.909671Z",
     "start_time": "2024-10-18T14:12:46.906623Z"
    }
   },
   "outputs": [],
   "source": [
    "# Disable a few warnings:\n",
    "import warnings\n",
    "warnings.filterwarnings('ignore', category=UserWarning, append=True)\n",
    "warnings.filterwarnings('ignore', category=RuntimeWarning, append=True)\n",
    "warnings.filterwarnings('ignore', category=FutureWarning, append=True)\n",
    "warnings.filterwarnings('ignore',category=pd.io.pytables.PerformanceWarning)"
   ]
  },
  {
   "cell_type": "markdown",
   "metadata": {},
   "source": [
    "**Download example data:**  \n",
    "The actual download is only necessary once for all example notebooks.\n"
   ]
  },
  {
   "cell_type": "code",
   "execution_count": 4,
   "metadata": {
    "execution": {
     "iopub.execute_input": "2024-03-22T16:58:16.289048Z",
     "iopub.status.busy": "2024-03-22T16:58:16.288649Z",
     "iopub.status.idle": "2024-03-22T16:58:16.295823Z",
     "shell.execute_reply": "2024-03-22T16:58:16.294073Z"
    },
    "ExecuteTime": {
     "end_time": "2024-10-18T14:12:46.910648Z",
     "start_time": "2024-10-18T14:12:46.908891Z"
    }
   },
   "outputs": [],
   "source": [
    "data_out=Path('../')"
   ]
  },
  {
   "cell_type": "code",
   "execution_count": 5,
   "metadata": {
    "execution": {
     "iopub.execute_input": "2024-03-22T16:58:16.306118Z",
     "iopub.status.busy": "2024-03-22T16:58:16.304202Z",
     "iopub.status.idle": "2024-03-22T16:58:16.323810Z",
     "shell.execute_reply": "2024-03-22T16:58:16.322814Z"
    },
    "ExecuteTime": {
     "end_time": "2024-10-18T14:12:46.914771Z",
     "start_time": "2024-10-18T14:12:46.912469Z"
    }
   },
   "outputs": [],
   "source": [
    "# Download the data: This only has to be done once for all tobac examples and can take a while\n",
    "data_file = list(data_out.rglob('data/Example_input_OLR_model.nc'))\n",
    "if len(data_file) == 0:\n",
    "    file_path='https://zenodo.org/records/3195910/files/climate-processes/tobac_example_data-v1.0.1.zip'\n",
    "    #file_path='http://zenodo..'\n",
    "    tempfile=Path('temp.zip')\n",
    "    print('start downloading data')\n",
    "    request=urllib.request.urlretrieve(file_path, tempfile)\n",
    "    print('start extracting data')\n",
    "    shutil.unpack_archive(tempfile, data_out)\n",
    "    tempfile.unlink()\n",
    "    print('data extracted')\n",
    "    data_file = list(data_out.rglob('data/Example_input_OLR_model.nc'))"
   ]
  },
  {
   "cell_type": "code",
   "execution_count": 6,
   "metadata": {
    "execution": {
     "iopub.execute_input": "2024-03-22T16:58:16.329459Z",
     "iopub.status.busy": "2024-03-22T16:58:16.328100Z",
     "iopub.status.idle": "2024-03-22T16:58:16.651682Z",
     "shell.execute_reply": "2024-03-22T16:58:16.650518Z"
    },
    "ExecuteTime": {
     "end_time": "2024-10-18T14:12:46.970484Z",
     "start_time": "2024-10-18T14:12:46.915517Z"
    }
   },
   "outputs": [],
   "source": [
    "#Load Data from downloaded file:\n",
    "OLR=iris.load_cube(str(data_file[0]),'OLR')"
   ]
  },
  {
   "cell_type": "code",
   "execution_count": 7,
   "metadata": {
    "execution": {
     "iopub.execute_input": "2024-03-22T16:58:16.662567Z",
     "iopub.status.busy": "2024-03-22T16:58:16.661940Z",
     "iopub.status.idle": "2024-03-22T16:58:16.670907Z",
     "shell.execute_reply": "2024-03-22T16:58:16.668517Z"
    },
    "ExecuteTime": {
     "end_time": "2024-10-18T14:12:46.974093Z",
     "start_time": "2024-10-18T14:12:46.971134Z"
    }
   },
   "outputs": [],
   "source": [
    "#Set up directory to save output and plots:\n",
    "savedir=Path(\"Save\")\n",
    "if not savedir.is_dir():\n",
    "    savedir.mkdir()\n",
    "plot_dir=Path(\"Plot\")\n",
    "if not plot_dir.is_dir():\n",
    "    plot_dir.mkdir()"
   ]
  },
  {
   "cell_type": "markdown",
   "metadata": {},
   "source": [
    "**Feature detection:**  \n",
    "Feature detection is performed based on OLR field and a set of thresholds."
   ]
  },
  {
   "cell_type": "code",
   "execution_count": 8,
   "metadata": {
    "execution": {
     "iopub.execute_input": "2024-03-22T16:58:16.683113Z",
     "iopub.status.busy": "2024-03-22T16:58:16.682444Z",
     "iopub.status.idle": "2024-03-22T16:58:16.698685Z",
     "shell.execute_reply": "2024-03-22T16:58:16.694854Z"
    },
    "ExecuteTime": {
     "end_time": "2024-10-18T14:12:46.977352Z",
     "start_time": "2024-10-18T14:12:46.974273Z"
    }
   },
   "outputs": [],
   "source": [
    "# Determine temporal and spatial sampling:\n",
    "dxy,dt=tobac.get_spacings(OLR)"
   ]
  },
  {
   "cell_type": "code",
   "execution_count": 9,
   "metadata": {
    "execution": {
     "iopub.execute_input": "2024-03-22T16:58:16.709596Z",
     "iopub.status.busy": "2024-03-22T16:58:16.708989Z",
     "iopub.status.idle": "2024-03-22T16:58:16.716044Z",
     "shell.execute_reply": "2024-03-22T16:58:16.714199Z"
    },
    "ExecuteTime": {
     "end_time": "2024-10-18T14:12:46.978371Z",
     "start_time": "2024-10-18T14:12:46.976509Z"
    }
   },
   "outputs": [],
   "source": [
    "# Dictionary containing keyword arguments for feature detection step (Keywords could also be given directly in the function call).\n",
    "parameters_features={}\n",
    "parameters_features['position_threshold']='weighted_diff'\n",
    "parameters_features['sigma_threshold']=0.5\n",
    "parameters_features['n_min_threshold']=4\n",
    "parameters_features['target']='minimum'\n",
    "parameters_features['threshold']=[250,225,200,175,150]"
   ]
  },
  {
   "cell_type": "code",
   "execution_count": 10,
   "metadata": {
    "execution": {
     "iopub.execute_input": "2024-03-22T16:58:16.733372Z",
     "iopub.status.busy": "2024-03-22T16:58:16.731580Z",
     "iopub.status.idle": "2024-03-22T16:58:21.847128Z",
     "shell.execute_reply": "2024-03-22T16:58:21.846471Z"
    },
    "ExecuteTime": {
     "end_time": "2024-10-18T14:12:49.511333Z",
     "start_time": "2024-10-18T14:12:46.980537Z"
    }
   },
   "outputs": [
    {
     "name": "stdout",
     "output_type": "stream",
     "text": [
      "starting feature detection\n",
      "feature detection performed and saved\n"
     ]
    }
   ],
   "source": [
    "# Perform feature detection:\n",
    "print('starting feature detection')\n",
    "Features=tobac.feature_detection_multithreshold(OLR,dxy, **parameters_features)\n",
    "Features.to_hdf(savedir / 'Features.h5', 'table')\n",
    "print('feature detection performed and saved')"
   ]
  },
  {
   "cell_type": "markdown",
   "metadata": {},
   "source": [
    "**Segmentation:**  \n",
    "Segmentation is performed with watershedding based on the detected features and a single threshold value."
   ]
  },
  {
   "cell_type": "code",
   "execution_count": 11,
   "metadata": {
    "execution": {
     "iopub.execute_input": "2024-03-22T16:58:21.850765Z",
     "iopub.status.busy": "2024-03-22T16:58:21.849988Z",
     "iopub.status.idle": "2024-03-22T16:58:21.854142Z",
     "shell.execute_reply": "2024-03-22T16:58:21.853342Z"
    },
    "ExecuteTime": {
     "end_time": "2024-10-18T14:12:49.516423Z",
     "start_time": "2024-10-18T14:12:49.512155Z"
    }
   },
   "outputs": [],
   "source": [
    "# Dictionary containing keyword options for the segmentation step:\n",
    "parameters_segmentation={}\n",
    "parameters_segmentation['target']='minimum'\n",
    "parameters_segmentation['method']='watershed'\n",
    "parameters_segmentation['threshold']=250"
   ]
  },
  {
   "cell_type": "code",
   "execution_count": 12,
   "metadata": {
    "execution": {
     "iopub.execute_input": "2024-03-22T16:58:21.857597Z",
     "iopub.status.busy": "2024-03-22T16:58:21.857341Z",
     "iopub.status.idle": "2024-03-22T16:58:27.601694Z",
     "shell.execute_reply": "2024-03-22T16:58:27.592594Z"
    },
    "ExecuteTime": {
     "end_time": "2024-10-18T14:12:52.162285Z",
     "start_time": "2024-10-18T14:12:49.515375Z"
    }
   },
   "outputs": [
    {
     "name": "stdout",
     "output_type": "stream",
     "text": [
      "Starting segmentation based on OLR.\n",
      "segmentation OLR performed, start saving results to files\n",
      "segmentation OLR performed and saved\n"
     ]
    }
   ],
   "source": [
    "# Perform segmentation and save results:\n",
    "print('Starting segmentation based on OLR.')\n",
    "Mask_OLR,Features_OLR=tobac.segmentation_2D(Features,OLR,dxy,**parameters_segmentation)\n",
    "print('segmentation OLR performed, start saving results to files')\n",
    "iris.save([Mask_OLR], savedir / 'Mask_Segmentation_OLR.nc', zlib=True, complevel=4)                \n",
    "Features_OLR.to_hdf(savedir / 'Features_OLR.h5', 'table')\n",
    "print('segmentation OLR performed and saved')"
   ]
  },
  {
   "cell_type": "markdown",
   "metadata": {},
   "source": [
    "**Trajectory linking:**  \n",
    "Features are linked into cloud trajectories using the trackpy library (http://soft-matter.github.io/trackpy). This takes the feature positions determined in the feature detection step into account but does not include information on the shape of the identified objects.**"
   ]
  },
  {
   "cell_type": "code",
   "execution_count": 13,
   "metadata": {
    "execution": {
     "iopub.execute_input": "2024-03-22T16:58:27.613002Z",
     "iopub.status.busy": "2024-03-22T16:58:27.611199Z",
     "iopub.status.idle": "2024-03-22T16:58:27.620807Z",
     "shell.execute_reply": "2024-03-22T16:58:27.617637Z"
    },
    "ExecuteTime": {
     "end_time": "2024-10-18T14:12:52.166590Z",
     "start_time": "2024-10-18T14:12:52.163094Z"
    }
   },
   "outputs": [],
   "source": [
    "# Arguments for trajectory linking:\n",
    "parameters_linking={}\n",
    "parameters_linking['v_max']=20\n",
    "parameters_linking['stubs']=2\n",
    "parameters_linking['order']=1\n",
    "parameters_linking['extrapolate']=0\n",
    "parameters_linking['memory']=0\n",
    "parameters_linking['adaptive_stop']=0.2\n",
    "parameters_linking['adaptive_step']=0.95\n",
    "parameters_linking['subnetwork_size']=100\n",
    "parameters_linking['method_linking']= 'predict'"
   ]
  },
  {
   "cell_type": "code",
   "execution_count": 14,
   "metadata": {
    "execution": {
     "iopub.execute_input": "2024-03-22T16:58:27.627996Z",
     "iopub.status.busy": "2024-03-22T16:58:27.627613Z",
     "iopub.status.idle": "2024-03-22T16:58:29.206224Z",
     "shell.execute_reply": "2024-03-22T16:58:29.205676Z"
    }
   },
   "outputs": [
    {
     "name": "stdout",
     "output_type": "stream",
     "text": [
      "Frame 95: 12 trajectories present.\n"
     ]
    }
   ],
   "source": [
    "# Perform linking and save results to file:\n",
    "Track=tobac.linking_trackpy(Features, OLR, dt=dt, dxy=dxy, **parameters_linking)\n",
    "Track.to_hdf(savedir / 'Track.h5', 'table')"
   ]
  },
  {
   "cell_type": "markdown",
   "metadata": {},
   "source": [
    "**Visualisation:**"
   ]
  },
  {
   "cell_type": "code",
   "execution_count": 15,
   "metadata": {
    "execution": {
     "iopub.execute_input": "2024-03-22T16:58:29.209991Z",
     "iopub.status.busy": "2024-03-22T16:58:29.209718Z",
     "iopub.status.idle": "2024-03-22T16:58:29.215402Z",
     "shell.execute_reply": "2024-03-22T16:58:29.213399Z"
    },
    "ExecuteTime": {
     "end_time": "2024-10-18T14:12:52.432160Z",
     "start_time": "2024-10-18T14:12:52.428595Z"
    }
   },
   "outputs": [],
   "source": [
    "# Set extent of maps created in the following cells:\n",
    "axis_extent = [-95, -89, 28, 32]        "
   ]
  },
  {
   "cell_type": "code",
   "execution_count": 16,
   "metadata": {
    "execution": {
     "iopub.execute_input": "2024-03-22T16:58:29.218780Z",
     "iopub.status.busy": "2024-03-22T16:58:29.218480Z",
     "iopub.status.idle": "2024-03-22T16:59:20.261886Z",
     "shell.execute_reply": "2024-03-22T16:59:20.259310Z"
    },
    "ExecuteTime": {
     "end_time": "2024-10-18T14:13:11.100750Z",
     "start_time": "2024-10-18T14:12:52.436217Z"
    }
   },
   "outputs": [
    {
     "data": {
      "text/plain": "<Figure size 1000x1000 with 1 Axes>",
      "image/png": "[encoded data removed]"
     },
     "metadata": {},
     "output_type": "display_data"
    }
   ],
   "source": [
    "# Plot map with all individual tracks:\n",
    "import cartopy.crs as ccrs\n",
    "fig_map, ax_map = plt.subplots(figsize=(10,10), subplot_kw={'projection': ccrs.PlateCarree()})\n",
    "ax_map = tobac.map_tracks(Track, axis_extent=axis_extent,  axes=ax_map)"
   ]
  },
  {
   "cell_type": "code",
   "execution_count": 17,
   "metadata": {
    "execution": {
     "iopub.execute_input": "2024-03-22T16:59:20.265889Z",
     "iopub.status.busy": "2024-03-22T16:59:20.265571Z",
     "iopub.status.idle": "2024-03-22T16:59:20.273946Z",
     "shell.execute_reply": "2024-03-22T16:59:20.272749Z"
    },
    "ExecuteTime": {
     "end_time": "2024-10-18T14:13:11.105730Z",
     "start_time": "2024-10-18T14:13:11.102072Z"
    }
   },
   "outputs": [],
   "source": [
    "# Create animation of tracked clouds and outlines with OLR as a background field\n",
    "animation_test_tobac=tobac.animation_mask_field(Track,Features,OLR,Mask_OLR,\n",
    "                                          axis_extent=axis_extent,#figsize=figsize,orientation_colorbar='horizontal',pad_colorbar=0.2,\n",
    "                                          vmin=80,vmax=330,\n",
    "                                          plot_outline=True,plot_marker=True,marker_track='x',plot_number=True,plot_features=True)"
   ]
  },
  {
   "cell_type": "code",
   "execution_count": 18,
   "metadata": {
    "execution": {
     "iopub.execute_input": "2024-03-22T16:59:20.278531Z",
     "iopub.status.busy": "2024-03-22T16:59:20.277805Z",
     "iopub.status.idle": "2024-03-22T17:00:26.690754Z",
     "shell.execute_reply": "2024-03-22T17:00:26.690119Z"
    },
    "ExecuteTime": {
     "end_time": "2024-10-18T14:13:11.473894Z",
     "start_time": "2024-10-18T14:13:11.104025Z"
    }
   },
   "outputs": [
    {
     "ename": "RuntimeError",
     "evalue": "Requested MovieWriter (ffmpeg) not available",
     "output_type": "error",
     "traceback": [
      "\u001B[0;31m---------------------------------------------------------------------------\u001B[0m",
      "\u001B[0;31mRuntimeError\u001B[0m                              Traceback (most recent call last)",
      "Cell \u001B[0;32mIn[18], line 3\u001B[0m\n\u001B[1;32m      1\u001B[0m \u001B[38;5;66;03m# Display animation:\u001B[39;00m\n\u001B[1;32m      2\u001B[0m \u001B[38;5;28;01mfrom\u001B[39;00m \u001B[38;5;21;01mIPython\u001B[39;00m\u001B[38;5;21;01m.\u001B[39;00m\u001B[38;5;21;01mdisplay\u001B[39;00m \u001B[38;5;28;01mimport\u001B[39;00m HTML, Image, display\n\u001B[0;32m----> 3\u001B[0m HTML(\u001B[43manimation_test_tobac\u001B[49m\u001B[38;5;241;43m.\u001B[39;49m\u001B[43mto_html5_video\u001B[49m\u001B[43m(\u001B[49m\u001B[43m)\u001B[49m)\n",
      "File \u001B[0;32m~/mambaforge/envs/tobac_dev_3_12/lib/python3.12/site-packages/matplotlib/animation.py:1265\u001B[0m, in \u001B[0;36mAnimation.to_html5_video\u001B[0;34m(self, embed_limit)\u001B[0m\n\u001B[1;32m   1262\u001B[0m path \u001B[38;5;241m=\u001B[39m Path(tmpdir, \u001B[38;5;124m\"\u001B[39m\u001B[38;5;124mtemp.m4v\u001B[39m\u001B[38;5;124m\"\u001B[39m)\n\u001B[1;32m   1263\u001B[0m \u001B[38;5;66;03m# We create a writer manually so that we can get the\u001B[39;00m\n\u001B[1;32m   1264\u001B[0m \u001B[38;5;66;03m# appropriate size for the tag\u001B[39;00m\n\u001B[0;32m-> 1265\u001B[0m Writer \u001B[38;5;241m=\u001B[39m \u001B[43mwriters\u001B[49m\u001B[43m[\u001B[49m\u001B[43mmpl\u001B[49m\u001B[38;5;241;43m.\u001B[39;49m\u001B[43mrcParams\u001B[49m\u001B[43m[\u001B[49m\u001B[38;5;124;43m'\u001B[39;49m\u001B[38;5;124;43manimation.writer\u001B[39;49m\u001B[38;5;124;43m'\u001B[39;49m\u001B[43m]\u001B[49m\u001B[43m]\u001B[49m\n\u001B[1;32m   1266\u001B[0m writer \u001B[38;5;241m=\u001B[39m Writer(codec\u001B[38;5;241m=\u001B[39m\u001B[38;5;124m'\u001B[39m\u001B[38;5;124mh264\u001B[39m\u001B[38;5;124m'\u001B[39m,\n\u001B[1;32m   1267\u001B[0m                 bitrate\u001B[38;5;241m=\u001B[39mmpl\u001B[38;5;241m.\u001B[39mrcParams[\u001B[38;5;124m'\u001B[39m\u001B[38;5;124manimation.bitrate\u001B[39m\u001B[38;5;124m'\u001B[39m],\n\u001B[1;32m   1268\u001B[0m                 fps\u001B[38;5;241m=\u001B[39m\u001B[38;5;241m1000.\u001B[39m \u001B[38;5;241m/\u001B[39m \u001B[38;5;28mself\u001B[39m\u001B[38;5;241m.\u001B[39m_interval)\n\u001B[1;32m   1269\u001B[0m \u001B[38;5;28mself\u001B[39m\u001B[38;5;241m.\u001B[39msave(\u001B[38;5;28mstr\u001B[39m(path), writer\u001B[38;5;241m=\u001B[39mwriter)\n",
      "File \u001B[0;32m~/mambaforge/envs/tobac_dev_3_12/lib/python3.12/site-packages/matplotlib/animation.py:128\u001B[0m, in \u001B[0;36mMovieWriterRegistry.__getitem__\u001B[0;34m(self, name)\u001B[0m\n\u001B[1;32m    126\u001B[0m \u001B[38;5;28;01mif\u001B[39;00m \u001B[38;5;28mself\u001B[39m\u001B[38;5;241m.\u001B[39mis_available(name):\n\u001B[1;32m    127\u001B[0m     \u001B[38;5;28;01mreturn\u001B[39;00m \u001B[38;5;28mself\u001B[39m\u001B[38;5;241m.\u001B[39m_registered[name]\n\u001B[0;32m--> 128\u001B[0m \u001B[38;5;28;01mraise\u001B[39;00m \u001B[38;5;167;01mRuntimeError\u001B[39;00m(\u001B[38;5;124mf\u001B[39m\u001B[38;5;124m\"\u001B[39m\u001B[38;5;124mRequested MovieWriter (\u001B[39m\u001B[38;5;132;01m{\u001B[39;00mname\u001B[38;5;132;01m}\u001B[39;00m\u001B[38;5;124m) not available\u001B[39m\u001B[38;5;124m\"\u001B[39m)\n",
      "\u001B[0;31mRuntimeError\u001B[0m: Requested MovieWriter (ffmpeg) not available"
     ]
    }
   ],
   "source": [
    "# Display animation:\n",
    "from IPython.display import HTML, Image, display\n",
    "HTML(animation_test_tobac.to_html5_video())"
   ]
  },
  {
   "cell_type": "code",
   "execution_count": null,
   "metadata": {
    "execution": {
     "iopub.execute_input": "2024-03-22T17:00:26.729154Z",
     "iopub.status.busy": "2024-03-22T17:00:26.728626Z",
     "iopub.status.idle": "2024-03-22T17:00:26.731614Z",
     "shell.execute_reply": "2024-03-22T17:00:26.731010Z"
    },
    "ExecuteTime": {
     "start_time": "2024-10-18T14:13:11.474322Z"
    }
   },
   "outputs": [],
   "source": [
    "# # Save animation to file:\n",
    "# savefile_animation = plot_dir /'Animation.mp4'\n",
    "# animation_test_tobac.save(savefile_animation,dpi=200)\n",
    "# print(f'animation saved to {savefile_animation}')"
   ]
  },
  {
   "cell_type": "code",
   "execution_count": null,
   "metadata": {
    "execution": {
     "iopub.execute_input": "2024-03-22T17:00:26.734851Z",
     "iopub.status.busy": "2024-03-22T17:00:26.734605Z",
     "iopub.status.idle": "2024-03-22T17:00:26.883551Z",
     "shell.execute_reply": "2024-03-22T17:00:26.882911Z"
    },
    "ExecuteTime": {
     "start_time": "2024-10-18T14:13:11.475978Z"
    }
   },
   "outputs": [],
   "source": [
    "# Lifetimes of tracked clouds:\n",
    "fig_lifetime,ax_lifetime=plt.subplots()\n",
    "tobac.plot_lifetime_histogram_bar(Track,axes=ax_lifetime,bin_edges=np.arange(0,200,20),density=False,width_bar=10)\n",
    "ax_lifetime.set_xlabel('lifetime (min)')\n",
    "ax_lifetime.set_ylabel('counts')\n",
    "         "
   ]
  },
  {
   "cell_type": "code",
   "execution_count": null,
   "metadata": {
    "ExecuteTime": {
     "start_time": "2024-10-18T14:13:11.476632Z"
    }
   },
   "outputs": [],
   "source": []
  }
 ],
 "metadata": {
  "language_info": {
   "codemirror_mode": {
    "name": "ipython",
    "version": 3
   },
   "file_extension": ".py",
   "mimetype": "text/x-python",
   "name": "python",
   "nbconvert_exporter": "python",
   "pygments_lexer": "ipython3",
   "version": "3.11.8"
  },
  "kernelspec": {
   "name": "python3",
   "language": "python",
   "display_name": "Python 3 (ipykernel)"
  }
 },
 "nbformat": 4,
 "nbformat_minor": 4
}
