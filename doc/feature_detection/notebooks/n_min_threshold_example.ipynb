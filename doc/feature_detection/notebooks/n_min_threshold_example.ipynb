{
 "cells": [
  {
   "cell_type": "markdown",
   "metadata": {},
   "source": [
    "## How `n_min_threshold` changes what features are detected"
   ]
  },
  {
   "cell_type": "markdown",
   "metadata": {},
   "source": [
    "#### Imports"
   ]
  },
  {
   "cell_type": "code",
   "execution_count": null,
   "metadata": {},
   "outputs": [],
   "source": [
    "%matplotlib inline\n",
    "import matplotlib.pyplot as plt\n",
    "import numpy as np\n",
    "import tobac\n",
    "import xarray as xr"
   ]
  },
  {
   "cell_type": "markdown",
   "metadata": {},
   "source": [
    "#### Generate Feature Data"
   ]
  },
  {
   "cell_type": "markdown",
   "metadata": {},
   "source": [
    "Here, we will generate some simple feature data with a variety of features, large and small. "
   ]
  },
  {
   "cell_type": "code",
   "execution_count": null,
   "metadata": {},
   "outputs": [],
   "source": [
    "# Dimensions here are time, y, x.\n",
    "input_field_arr = np.zeros((1, 80, 80))\n",
    "# small 5x5 feature, area of 25 points\n",
    "input_field_arr[0, 15:20, 10:15] = 50\n",
    "# larger 30x30 feature, area of 900\n",
    "input_field_arr[0, 40:70, 10:30] = 50\n",
    "# small 2x2 feature within larger 30x30 feature, area of 4 points\n",
    "input_field_arr[0, 52:54, 22:24] = 100\n",
    "# small 4x4 feature within larger 30x30 feature, area of 16 points\n",
    "input_field_arr[0, 60:64, 15:19] = 100\n",
    "\n",
    "plt.pcolormesh(input_field_arr[0])\n",
    "plt.colorbar()\n",
    "plt.title(\"Base data\")\n",
    "plt.show()"
   ]
  },
  {
   "cell_type": "code",
   "execution_count": null,
   "metadata": {},
   "outputs": [],
   "source": [
    "# We now need to generate an Iris DataCube out of this dataset to run tobac feature detection.\n",
    "# One can use xarray to generate a DataArray and then convert it to Iris, as done here.\n",
    "input_field_iris = xr.DataArray(\n",
    "    input_field_arr,\n",
    "    dims=[\"time\", \"Y\", \"X\"],\n",
    "    coords={\"time\": [np.datetime64(\"2019-01-01T00:00:00\")]},\n",
    ").to_iris()\n",
    "# Version 2.0 of tobac (currently in development) will allow the use of xarray directly with tobac."
   ]
  },
  {
   "cell_type": "markdown",
   "metadata": {},
   "source": [
    "***"
   ]
  },
  {
   "cell_type": "markdown",
   "metadata": {},
   "source": [
    "#### No `n_min_threshold`\n",
    "If we keep `n_min_threshold` at the default value of `0`, all three features will be detected with the appropriate thresholds used."
   ]
  },
  {
   "cell_type": "code",
   "execution_count": null,
   "metadata": {},
   "outputs": [],
   "source": [
    "thresholds = [50, 100]\n",
    "# Using 'center' here outputs the feature location as the arithmetic center of the detected feature.\n",
    "# All filtering is off in this example, although that is not usually recommended.\n",
    "single_threshold_features = tobac.feature_detection_multithreshold(\n",
    "    field_in=input_field_iris,\n",
    "    dxy=1000,\n",
    "    threshold=thresholds,\n",
    "    target=\"maximum\",\n",
    "    position_threshold=\"center\",\n",
    "    sigma_threshold=0,\n",
    ")\n",
    "plt.pcolormesh(input_field_arr[0])\n",
    "plt.colorbar()\n",
    "# Plot all features detected\n",
    "plt.scatter(\n",
    "    x=single_threshold_features[\"hdim_2\"].values,\n",
    "    y=single_threshold_features[\"hdim_1\"].values,\n",
    "    color=\"r\",\n",
    "    label=\"Detected Features\",\n",
    ")\n",
    "plt.legend()\n",
    "plt.title(\"n_min_threshold=0\")\n",
    "plt.show()"
   ]
  },
  {
   "cell_type": "markdown",
   "metadata": {},
   "source": [
    "***"
   ]
  },
  {
   "cell_type": "markdown",
   "metadata": {},
   "source": [
    "#### Increasing `n_min_threshold`\n",
    "As we increase `n_min_threshold`, fewer of these separate features are detected. In this example, if we set `n_min_threshold` to 5, the smallest detected feature goes away. "
   ]
  },
  {
   "cell_type": "code",
   "execution_count": null,
   "metadata": {},
   "outputs": [],
   "source": [
    "thresholds = [50, 100]\n",
    "n_min_threshold = 5\n",
    "# Using 'center' here outputs the feature location as the arithmetic center of the detected feature.\n",
    "# All filtering is off in this example, although that is not usually recommended.\n",
    "single_threshold_features = tobac.feature_detection_multithreshold(\n",
    "    field_in=input_field_iris,\n",
    "    dxy=1000,\n",
    "    threshold=thresholds,\n",
    "    target=\"maximum\",\n",
    "    position_threshold=\"center\",\n",
    "    sigma_threshold=0,\n",
    "    n_min_threshold=n_min_threshold,\n",
    ")\n",
    "plt.pcolormesh(input_field_arr[0])\n",
    "plt.colorbar()\n",
    "# Plot all features detected\n",
    "plt.scatter(\n",
    "    x=single_threshold_features[\"hdim_2\"].values,\n",
    "    y=single_threshold_features[\"hdim_1\"].values,\n",
    "    color=\"r\",\n",
    "    label=\"Detected Features\",\n",
    ")\n",
    "plt.legend()\n",
    "plt.title(\"n_min_threshold={0}\".format(n_min_threshold))\n",
    "plt.show()"
   ]
  },
  {
   "cell_type": "markdown",
   "metadata": {},
   "source": [
    "If we increase `n_min_threshold` to 20, only the large 50-valued feature is detected, rather than the two higher-valued squares."
   ]
  },
  {
   "cell_type": "code",
   "execution_count": null,
   "metadata": {},
   "outputs": [],
   "source": [
    "thresholds = [50, 100]\n",
    "n_min_threshold = 20\n",
    "# Using 'center' here outputs the feature location as the arithmetic center of the detected feature.\n",
    "# All filtering is off in this example, although that is not usually recommended.\n",
    "single_threshold_features = tobac.feature_detection_multithreshold(\n",
    "    field_in=input_field_iris,\n",
    "    dxy=1000,\n",
    "    threshold=thresholds,\n",
    "    target=\"maximum\",\n",
    "    position_threshold=\"center\",\n",
    "    sigma_threshold=0,\n",
    "    n_min_threshold=n_min_threshold,\n",
    ")\n",
    "plt.pcolormesh(input_field_arr[0])\n",
    "plt.colorbar()\n",
    "# Plot all features detected\n",
    "plt.scatter(\n",
    "    x=single_threshold_features[\"hdim_2\"].values,\n",
    "    y=single_threshold_features[\"hdim_1\"].values,\n",
    "    color=\"r\",\n",
    "    label=\"Detected Features\",\n",
    ")\n",
    "plt.legend()\n",
    "plt.title(\"n_min_threshold={0}\".format(n_min_threshold))\n",
    "plt.show()"
   ]
  },
  {
   "cell_type": "markdown",
   "metadata": {},
   "source": [
    "If we set `n_min_threshold` to 100, only the largest feature is detected."
   ]
  },
  {
   "cell_type": "code",
   "execution_count": null,
   "metadata": {},
   "outputs": [],
   "source": [
    "thresholds = [50, 100]\n",
    "n_min_threshold = 100\n",
    "# Using 'center' here outputs the feature location as the arithmetic center of the detected feature.\n",
    "# All filtering is off in this example, although that is not usually recommended.\n",
    "single_threshold_features = tobac.feature_detection_multithreshold(\n",
    "    field_in=input_field_iris,\n",
    "    dxy=1000,\n",
    "    threshold=thresholds,\n",
    "    target=\"maximum\",\n",
    "    position_threshold=\"center\",\n",
    "    sigma_threshold=0,\n",
    "    n_min_threshold=n_min_threshold,\n",
    ")\n",
    "plt.pcolormesh(input_field_arr[0])\n",
    "plt.colorbar()\n",
    "# Plot all features detected\n",
    "plt.scatter(\n",
    "    x=single_threshold_features[\"hdim_2\"].values,\n",
    "    y=single_threshold_features[\"hdim_1\"].values,\n",
    "    color=\"r\",\n",
    "    label=\"Detected Features\",\n",
    ")\n",
    "plt.legend()\n",
    "plt.title(\"n_min_threshold={0}\".format(n_min_threshold))\n",
    "plt.show()"
   ]
  },
  {
   "cell_type": "markdown",
   "metadata": {},
   "source": [
    "#### Different `n_min_threshold` for different threshold values "
   ]
  },
  {
   "cell_type": "markdown",
   "metadata": {},
   "source": [
    "Another option is to use different `n_min_threshold` values for different threshold values. This can be practical because extreme values are usually not as widespread as less extreme values (think for example of the rain rates in a convective system). \n",
    "\n",
    "If we set `n_min_threshold` to 100 for the lower threshold and to 5 for the higher threshold, only the larger 50-valued features are detected, but at the same time we make sure that the smaller areas with the 100-valued features are still detected: "
   ]
  },
  {
   "cell_type": "code",
   "execution_count": null,
   "metadata": {},
   "outputs": [],
   "source": [
    "thresholds = [50, 100]\n",
    "\n",
    "# defining multiple n_min_threshold:\n",
    "n_min_threshold = [100, 5]\n",
    "# alternatively, these could be given as a dictionary: n_min_threshold = {50:100,100: 5}\n",
    "\n",
    "# let's add another larger 30x30 feature, area of 900 to make the example more clear\n",
    "input_field_iris.data[0, 40:70, 40:60] = 50\n",
    "\n",
    "# Using 'center' here outputs the feature location as the arithmetic center of the detected feature.\n",
    "# All filtering is off in this example, although that is not usually recommended.\n",
    "single_threshold_features = tobac.feature_detection_multithreshold(\n",
    "    field_in=input_field_iris,\n",
    "    dxy=1000,\n",
    "    threshold=thresholds,\n",
    "    target=\"maximum\",\n",
    "    position_threshold=\"center\",\n",
    "    sigma_threshold=0,\n",
    "    n_min_threshold=n_min_threshold,\n",
    ")\n",
    "\n",
    "\n",
    "plt.pcolormesh(input_field_iris.data[0])\n",
    "plt.colorbar()\n",
    "# Plot all features detected\n",
    "plt.scatter(\n",
    "    x=single_threshold_features[\"hdim_2\"].values,\n",
    "    y=single_threshold_features[\"hdim_1\"].values,\n",
    "    color=\"r\",\n",
    "    label=\"Detected Features\",\n",
    ")\n",
    "plt.legend()\n",
    "plt.title(\"n_min_threshold={0}\".format(n_min_threshold))\n",
    "plt.show()"
   ]
  },
  {
   "cell_type": "markdown",
   "metadata": {},
   "source": [
    "#### Strict Thresholding (`strict_thresholding`)"
   ]
  },
  {
   "cell_type": "markdown",
   "metadata": {},
   "source": [
    "Sometimes it may be desirable to detect only features that satisfy *all* specified `n_min_threshold` thresholds. This can be achieved with the optional argument `strict_thresholding=True`."
   ]
  },
  {
   "cell_type": "code",
   "execution_count": null,
   "metadata": {},
   "outputs": [],
   "source": [
    "# As above, we create test data to demonstrate the effect of strict_thresholding\n",
    "input_field_arr = np.zeros((1, 101, 101))\n",
    "\n",
    "for idx, side in enumerate([40, 20, 10, 5]):\n",
    "    input_field_arr[\n",
    "        :,\n",
    "        (50 - side - 4 * idx) : (50 + side - 4 * idx),\n",
    "        (50 - side - 4 * idx) : (50 + side - 4 * idx),\n",
    "    ] = (\n",
    "        50 - side\n",
    "    )\n",
    "\n",
    "input_field_iris = xr.DataArray(\n",
    "    input_field_arr,\n",
    "    dims=[\"time\", \"Y\", \"X\"],\n",
    "    coords={\"time\": [np.datetime64(\"2019-01-01T00:00:00\")]},\n",
    ").to_iris()\n",
    "\n",
    "plt.pcolormesh(input_field_arr[0])\n",
    "plt.colorbar()\n",
    "plt.title(\"Base data\")\n",
    "plt.show()"
   ]
  },
  {
   "cell_type": "code",
   "execution_count": null,
   "metadata": {},
   "outputs": [],
   "source": [
    "thresholds = [8, 29, 39, 44]\n",
    "\n",
    "n_min_thresholds = [79**2, input_field_arr.size, 8**2, 3**2]\n",
    "\n",
    "f = plt.figure(figsize=(10, 5))\n",
    "\n",
    "# perform feature detection with and without strict thresholding and display the results side by side\n",
    "\n",
    "for idx, strict in enumerate((False, True)):\n",
    "    features_demo = tobac.feature_detection_multithreshold(\n",
    "        input_field_iris,\n",
    "        dxy=1000,\n",
    "        threshold=thresholds,\n",
    "        n_min_threshold=n_min_thresholds,\n",
    "        strict_thresholding=strict,\n",
    "    )\n",
    "    ax = f.add_subplot(121 + idx)\n",
    "    ax.pcolormesh(input_field_iris.data[0])\n",
    "    ax.set_title(f\"strict_thresholding={strict}\")\n",
    "    ax.scatter(\n",
    "        x=features_demo[\"hdim_2\"].values,\n",
    "        y=features_demo[\"hdim_1\"].values,\n",
    "        marker=\"x\",\n",
    "        color=\"r\",\n",
    "        label=\"Detected Features\",\n",
    "    )"
   ]
  },
  {
   "cell_type": "markdown",
   "metadata": {},
   "source": [
    "The effect of `strict_thresholding` can be observed in the plot above: Since the second `n_min_threshold` is not reached, no further features can be detected at higher `threshold` values. In the case of non strict thresholding, the feature with the highest value is still detected even though a previous `n_min_threshold` was not reached."
   ]
  }
 ],
 "metadata": {
  "language_info": {
   "name": "python"
  }
 },
 "nbformat": 4,
 "nbformat_minor": 2
}
